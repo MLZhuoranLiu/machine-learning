{
 "cells": [
  {
   "cell_type": "code",
   "execution_count": 134,
   "metadata": {
    "collapsed": false
   },
   "outputs": [],
   "source": [
    "# Imports\n",
    "import random\n",
    "import scipy\n",
    "from sklearn.metrics import confusion_matrix\n",
    "import numpy as np\n",
    "import matplotlib.pyplot as plt\n",
    "from sklearn import metrics\n",
    "% matplotlib inline"
   ]
  },
  {
   "cell_type": "code",
   "execution_count": 3,
   "metadata": {
    "collapsed": true
   },
   "outputs": [],
   "source": [
    "class DataLoader:\n",
    "    \"\"\"\n",
    "    Class for loading the MatLab data.\n",
    "    \"\"\"\n",
    "\n",
    "    def __init__(self, file):\n",
    "        \"\"\"\n",
    "        Load the data from the given file.\n",
    "\n",
    "        :param file: Path to file to load the data from (without the .mat extension).\n",
    "        :param flip_rate: Rate for flipping bits randomly, 0 means no flipping and 1 means all flipped and the\n",
    "                          maximum entropy is obtained for flip_rate = 0.5.\n",
    "        \"\"\"\n",
    "        self.data = scipy.io.loadmat(file, squeeze_me=True, struct_as_record=False)['mnist']\n",
    "        self.train_images = self.data.train_images\n",
    "        self.test_images = self.data.test_images\n",
    "        self.train_labels = self.data.train_labels\n",
    "        self.test_labels = self.data.test_labels\n",
    "\n",
    "    def load_images(self, flip_rate=0):\n",
    "        self.train_images = self.transform_images(self.train_images)\n",
    "        self.test_images = self.transform_images(self.test_images)\n",
    "        if flip_rate > 0:\n",
    "            noise = np.random.binomial(1, flip_rate, self.train_images.shape) * -2 + 1\n",
    "            self.train_images = np.multiply(self.train_images, noise)\n",
    "\n",
    "    def transform_images(self, data):\n",
    "        \"\"\"\n",
    "        Convert a (m x n x p) array to a (p x m x n) array and apply some additional transformations.\n",
    "\n",
    "        :param data: Data to transform.\n",
    "        :return: Transformed data.\n",
    "        \"\"\"\n",
    "        reshaped = data.reshape(data.shape[0] * data.shape[1], data.shape[2])\n",
    "        swapped_axes = np.swapaxes(reshaped, 0, 1)\n",
    "        return (swapped_axes > 122) * 2 - 1"
   ]
  },
  {
   "cell_type": "code",
   "execution_count": 7,
   "metadata": {
    "collapsed": true
   },
   "outputs": [],
   "source": [
    "num_neurons = 28 * 28\n",
    "learning_rate = 0.01\n",
    "w = np.random.normal(0, 1, (num_neurons, num_neurons))\n",
    "theta = np.random.normal(0, 1, (num_neurons,))\n",
    "np.fill_diagonal(w, 1)"
   ]
  },
  {
   "cell_type": "code",
   "execution_count": 10,
   "metadata": {
    "collapsed": false
   },
   "outputs": [],
   "source": [
    "data = DataLoader('mnistAll')\n",
    "data.load_images(0.1)"
   ]
  },
  {
   "cell_type": "code",
   "execution_count": 33,
   "metadata": {
    "collapsed": false
   },
   "outputs": [
    {
     "data": {
      "image/png": "[encoded data removed]",
      "text/plain": [
       "<matplotlib.figure.Figure at 0x7fd8f3747588>"
      ]
     },
     "metadata": {},
     "output_type": "display_data"
    }
   ],
   "source": [
    "f, ax = plt.subplots(10, 6, figsize=(6, 6))\n",
    "\n",
    "for digit in range(0, 10):\n",
    "    samples = data.train_images[data.train_labels == digit]\n",
    "    for sample in range(0, 6):\n",
    "        ax[digit][sample].imshow(samples[sample, :].reshape(28, 28))\n",
    "        ax[digit][sample].axis('off')"
   ]
  },
  {
   "cell_type": "code",
   "execution_count": 55,
   "metadata": {
    "collapsed": true
   },
   "outputs": [],
   "source": [
    "def calculate_probabilities(samples, w, theta, normalizing_constant):\n",
    "    return np.exp(-calculate_energy(samples, w, theta)) / normalizing_constant\n",
    "\n",
    "def calculate_energy(samples, w, theta):\n",
    "    f = np.dot(samples, np.dot(w, samples.T))\n",
    "    # Also allow samples consisting of one sample (an array, so f.ndim == 1)\n",
    "    # Therefore, only take the diagonal in the two dimensional case\n",
    "    if f.ndim == 2:\n",
    "        f = np.diagonal(f)\n",
    "    return np.squeeze(np.asarray(-0.5 * f - np.dot(theta.T, samples.T)))"
   ]
  },
  {
   "cell_type": "code",
   "execution_count": 56,
   "metadata": {
    "collapsed": true
   },
   "outputs": [],
   "source": [
    "training_samples = data.train_images[data.train_labels == 2]"
   ]
  },
  {
   "cell_type": "code",
   "execution_count": 129,
   "metadata": {
    "collapsed": false
   },
   "outputs": [],
   "source": [
    "def train_classifiers(samples, labels):\n",
    "    w = np.zeros((10, 28 * 28, 28 * 28))\n",
    "    theta = np.zeros((10, 28 * 28))\n",
    "    Z = np.zeros(10)\n",
    "    for digit in range(0, 10):\n",
    "        training_samples = samples[labels == digit]\n",
    "        s_mean_clamped = np.squeeze(np.asarray(np.mean(training_samples, 0)))\n",
    "        s_cov_clamped = np.cov(training_samples.T)\n",
    "        m = s_mean_clamped\n",
    "        C = s_cov_clamped - np.dot(np.asmatrix(s_mean_clamped).T, np.asmatrix(s_mean_clamped))\n",
    "        delta = np.zeros(s_cov_clamped.shape)\n",
    "        np.fill_diagonal(delta, 1. / (1. - np.multiply(m, m)))\n",
    "        w[digit, :, :] = delta - np.linalg.inv(C)\n",
    "        theta[digit, :] = np.arctanh(m) - np.dot(w[digit, :, :], m)\n",
    "        F = -0.5 * np.dot(np.dot(m, w[digit, :, :]), m) - np.dot(theta[digit, :], m) + 0.5 * np.dot(1 + m, np.log(0.5 * (1 + m))) + 0.5 * np.dot(1 - m, np.log(0.5 * (1 - m)))\n",
    "        Z[digit] = np.exp(-F)\n",
    "    return w, theta, Z\n",
    "\n",
    "w, theta, Z = train_classifiers(data.train_images, data.train_labels)"
   ]
  },
  {
   "cell_type": "code",
   "execution_count": 130,
   "metadata": {
    "collapsed": false
   },
   "outputs": [
    {
     "data": {
      "image/png": "[encoded data removed]",
      "text/plain": [
       "<matplotlib.figure.Figure at 0x7fd8f1bd8400>"
      ]
     },
     "metadata": {},
     "output_type": "display_data"
    }
   ],
   "source": [
    "X = data.test_images\n",
    "\n",
    "num_samples = 500\n",
    "probabilities = np.zeros((10, num_samples))\n",
    "for digit in range(0, 10):\n",
    "    probabilities[digit, :] = calculate_probabilities(X[:num_samples, :], w[digit, :, :], theta[digit, :], Z[digit])\n",
    "    \n",
    "predicted = np.argmax(probabilities, axis=0)\n",
    "real = data.test_labels[:num_samples]\n",
    "\n",
    "cm = confusion_matrix(real, predicted)\n",
    "plt.imshow(cm)\n",
    "plt.show()"
   ]
  },
  {
   "cell_type": "code",
   "execution_count": 132,
   "metadata": {
    "collapsed": false
   },
   "outputs": [
    {
     "data": {
      "text/plain": [
       "0.95399999999999996"
      ]
     },
     "execution_count": 132,
     "metadata": {},
     "output_type": "execute_result"
    }
   ],
   "source": [
    "metrics.accuracy_score(real, predicted)"
   ]
  },
  {
   "cell_type": "code",
   "execution_count": 133,
   "metadata": {
    "collapsed": false
   },
   "outputs": [
    {
     "data": {
      "text/plain": [
       "array([ 0.97619048,  1.        ,  0.94545455,  0.95555556,  0.98181818,\n",
       "        0.9       ,  0.97674419,  0.97959184,  0.95      ,  0.87037037])"
      ]
     },
     "execution_count": 133,
     "metadata": {},
     "output_type": "execute_result"
    }
   ],
   "source": [
    "cm.diagonal() / cm.sum(axis=1)"
   ]
  },
  {
   "cell_type": "markdown",
   "metadata": {},
   "source": [
    "# Research question\n",
    "Which noise level yields the lowest accuracy?"
   ]
  },
  {
   "cell_type": "code",
   "execution_count": null,
   "metadata": {
    "collapsed": false
   },
   "outputs": [
    {
     "name": "stdout",
     "output_type": "stream",
     "text": [
      "Round:  0\n",
      "Noise level:  0.05\n",
      "Noise level:  0.1\n",
      "Noise level:  0.15\n",
      "Noise level:  0.2\n",
      "Noise level:  0.25\n",
      "Noise level:  0.3\n",
      "Noise level:  0.35\n",
      "Noise level:  0.4\n",
      "Noise level:  0.45\n",
      "Noise level:  0.5\n",
      "Round:  1\n",
      "Noise level:  0.05\n",
      "Noise level:  0.1\n",
      "Noise level:  0.15\n"
     ]
    }
   ],
   "source": [
    "noise_levels = np.arange(0.05, 0.55, 0.05)\n",
    "accuracy = []\n",
    "\n",
    "X = data.test_images\n",
    "rounds = 10\n",
    "num_samples = 500\n",
    "accuracy = np.zeros((len(noise_levels), rounds))\n",
    "for k in range(rounds):\n",
    "    print('Round: ', k)\n",
    "    for noise_index, noise_level in enumerate(noise_levels):\n",
    "        print('Noise level: ', noise_level)\n",
    "        perm = np.random.permutation(X.shape[0])\n",
    "        data = DataLoader('mnistAll')\n",
    "        data.load_images(noise_level)\n",
    "        w, theta, Z = train_classifiers(data.train_images, data.train_labels)\n",
    "\n",
    "        probabilities = np.zeros((10, num_samples))\n",
    "        for digit in range(0, 10):\n",
    "            probabilities[digit, :] = calculate_probabilities(X[perm[:num_samples], :], w[digit, :, :], theta[digit, :], Z[digit])\n",
    "\n",
    "        predicted = np.argmax(probabilities, axis=0)\n",
    "        real = data.test_labels[perm[:num_samples]]\n",
    "\n",
    "        accuracy[noise_index, k] = metrics.accuracy_score(real, predicted)"
   ]
  },
  {
   "cell_type": "code",
   "execution_count": 240,
   "metadata": {
    "collapsed": false
   },
   "outputs": [
    {
     "name": "stdout",
     "output_type": "stream",
     "text": [
      "[[ 1.    0.98  0.94  0.92  0.92  0.88  0.94  0.98  0.96  0.88]\n",
      " [ 0.98  0.96  0.98  0.96  0.98  0.96  0.98  0.96  0.96  0.98]\n",
      " [ 0.98  1.    0.98  0.96  0.96  0.92  0.88  0.92  0.94  0.92]\n",
      " [ 0.96  0.98  0.96  0.98  1.    0.96  0.98  0.98  0.96  0.98]\n",
      " [ 0.92  0.94  0.92  0.96  0.9   0.98  0.98  0.98  0.9   0.96]\n",
      " [ 0.96  0.96  0.94  0.96  0.96  1.    0.96  0.98  0.92  0.94]\n",
      " [ 0.88  0.9   0.96  0.98  0.84  0.98  0.94  0.96  0.9   1.  ]\n",
      " [ 0.94  0.88  0.88  0.92  0.94  0.88  0.88  0.96  0.92  0.92]\n",
      " [ 0.88  0.88  0.82  0.9   0.9   0.88  0.82  0.88  0.94  0.84]]\n"
     ]
    },
    {
     "data": {
      "text/plain": [
       "<matplotlib.collections.PolyCollection at 0x7fd8f02624e0>"
      ]
     },
     "execution_count": 240,
     "metadata": {},
     "output_type": "execute_result"
    },
    {
     "data": {
      "image/png": "[encoded data removed]",
      "text/plain": [
       "<matplotlib.figure.Figure at 0x7fd8f03c7cf8>"
      ]
     },
     "metadata": {},
     "output_type": "display_data"
    }
   ],
   "source": [
    "print(accuracy)\n",
    "mean_accuracy = np.mean(accuracy, axis=1)\n",
    "plt.plot(noise_levels, mean_accuracy)\n",
    "error = np.std(accuracy, axis=1)\n",
    "plt.fill_between(noise_levels,mean_accuracy - error, mean_accuracy + error, alpha=0.2, edgecolor='#FF0000', facecolor='#FF0000')"
   ]
  },
  {
   "cell_type": "code",
   "execution_count": 178,
   "metadata": {
    "collapsed": true
   },
   "outputs": [],
   "source": [
    "def generate_samples(s, w, theta, num_burn_in=50, num_samples=500, show_transition_probabilities=False):\n",
    "    num_neurons = w.shape[0]\n",
    "    \n",
    "    # Initialize the matrix of generated samples\n",
    "    X = np.empty((0, num_neurons))\n",
    "    \n",
    "    # Iterate (first generate some samples during the burn-in period and then gather the samples)\n",
    "    for iteration in range(num_samples):\n",
    "        for burn_in in range(num_burn_in + 1):\n",
    "            # Store the original value of s\n",
    "            s_original = s\n",
    "            # Calculate the flip probabilities\n",
    "            p_flip = 0.5 * (1 + np.tanh(np.multiply(-s, np.dot(w, s) + theta)))\n",
    "            # Calculate transition probabilities\n",
    "            p_transition = p_flip / float(num_neurons)\n",
    "            p_stay = 1 - np.sum(p_transition)\n",
    "            # Flip according to the probability distribution of flipping\n",
    "            if random.random() <= 1 - p_stay:\n",
    "                # Pick a random neuron\n",
    "                neuron = random.randint(1, num_neurons) - 1\n",
    "                if random.random() <= p_flip[neuron]:\n",
    "                    s[neuron] *= -1\n",
    "            # Add the state if the sample is not generated during the burn in period\n",
    "            if burn_in >= num_burn_in:\n",
    "                if show_transition_probabilities:\n",
    "                    print('Transition probabilities for ', s_original,':', p_transition, ' (stay probability: ', p_stay, ')')\n",
    "                X = np.vstack([X, s])\n",
    "    return X"
   ]
  },
  {
   "cell_type": "code",
   "execution_count": 218,
   "metadata": {
    "collapsed": true
   },
   "outputs": [],
   "source": [
    "data = DataLoader('mnistAll')\n",
    "data.load_images(0.2)\n",
    "w, theta, Z = train_classifiers(data.train_images, data.train_labels)"
   ]
  },
  {
   "cell_type": "code",
   "execution_count": 230,
   "metadata": {
    "collapsed": false
   },
   "outputs": [
    {
     "data": {
      "image/png": "[encoded data removed]",
      "text/plain": [
       "<matplotlib.figure.Figure at 0x7fd8ff8567b8>"
      ]
     },
     "metadata": {},
     "output_type": "display_data"
    },
    {
     "data": {
      "image/png": "[encoded data removed]",
      "text/plain": [
       "<matplotlib.figure.Figure at 0x7fd8ff8567b8>"
      ]
     },
     "metadata": {},
     "output_type": "display_data"
    }
   ],
   "source": [
    "from IPython import display\n",
    "import time\n",
    "\n",
    "digit = 1\n",
    "\n",
    "#s = theta[digit, :]\n",
    "#s = s + np.random.normal(0, 0.001, s.shape)\n",
    "#s[s > 0] = 1\n",
    "#s[s < 0] = -1\n",
    "s = np.ones((28 * 28,))\n",
    "for i in range(100):\n",
    "    samples = generate_samples(s, w[digit, :, :], theta[digit, :], 500, 1)\n",
    "    s = samples[0, :]\n",
    "    plt.imshow(samples[samples.shape[0] - 1, :].reshape(28, 28))\n",
    "    display.clear_output(wait=True)\n",
    "    display.display(plt.gcf())\n",
    "    time.sleep(0.1)"
   ]
  },
  {
   "cell_type": "code",
   "execution_count": null,
   "metadata": {
    "collapsed": true
   },
   "outputs": [],
   "source": []
  }
 ],
 "metadata": {
  "anaconda-cloud": {},
  "kernelspec": {
   "display_name": "Python [Root]",
   "language": "python",
   "name": "Python [Root]"
  },
  "language_info": {
   "codemirror_mode": {
    "name": "ipython",
    "version": 3
   },
   "file_extension": ".py",
   "mimetype": "text/x-python",
   "name": "python",
   "nbconvert_exporter": "python",
   "pygments_lexer": "ipython3",
   "version": "3.5.2"
  }
 },
 "nbformat": 4,
 "nbformat_minor": 0
}
