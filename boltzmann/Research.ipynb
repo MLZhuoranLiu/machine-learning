{
 "cells": [
  {
   "cell_type": "markdown",
   "metadata": {},
   "source": [
    "# Bootstrap Notebook"
   ]
  },
  {
   "cell_type": "code",
   "execution_count": 73,
   "metadata": {
    "collapsed": false
   },
   "outputs": [],
   "source": [
    "% matplotlib inline\n",
    "import matplotlib.pyplot as plt\n",
    "import numpy as np\n",
    "from matplotlib import rc\n",
    "import seaborn as sns\n",
    "import scipy.io\n",
    "rc('text', usetex=True)\n",
    "sns.set_style(\"whitegrid\", {'axes.grid' : False})\n",
    "\n",
    "class DataLoader:\n",
    "    \"\"\"\n",
    "    Class for loading the MatLab data.\n",
    "    \"\"\"\n",
    "\n",
    "    def __init__(self, file):\n",
    "        \"\"\"\n",
    "        Load the data from the given file.\n",
    "\n",
    "        :param file: Path to file to load the data from (without the .mat extension).\n",
    "        :param flip_rate: Rate for flipping bits randomly, 0 means no flipping and 1 means all flipped and the\n",
    "                          maximum entropy is obtained for flip_rate = 0.5.\n",
    "        \"\"\"\n",
    "        self.data = scipy.io.loadmat(file, squeeze_me=True, struct_as_record=False)['mnist']\n",
    "        self.train_images = self.data.train_images\n",
    "        self.test_images = self.data.test_images\n",
    "        self.train_labels = self.data.train_labels\n",
    "        self.test_labels = self.data.test_labels\n",
    "\n",
    "    def load_images(self, flip_rate=0):\n",
    "        self.train_images = self.transform_images(self.train_images)\n",
    "        self.test_images = self.transform_images(self.test_images)\n",
    "        if flip_rate > 0:\n",
    "            noise = np.random.binomial(1, flip_rate, self.train_images.shape) * -2 + 1\n",
    "            self.train_images = np.multiply(self.train_images, noise)\n",
    "\n",
    "    def transform_images(self, data):\n",
    "        \"\"\"\n",
    "        Convert a (m x n x p) array to a (p x m x n) array and apply some additional transformations.\n",
    "\n",
    "        :param data: Data to transform.\n",
    "        :return: Transformed data.\n",
    "        \"\"\"\n",
    "        reshaped = data.reshape(data.shape[0] * data.shape[1], data.shape[2])\n",
    "        swapped_axes = np.swapaxes(reshaped, 0, 1)\n",
    "        return (swapped_axes > 122) * 2 - 1\n",
    "    \n",
    "def calculate_normalizing_constant(samples, w, theta):\n",
    "    return np.sum(np.exp(-calculate_energy(samples, w, theta)))\n",
    "\n",
    "def calculate_probabilities(samples, w, theta, normalizing_constant):\n",
    "    return np.exp(-calculate_energy(samples, w, theta)) / normalizing_constant\n",
    "\n",
    "def generate_samples(w, theta, num_burn_in=50, num_samples=500, show_transition_probabilities=False):\n",
    "    num_neurons = w.shape[0]\n",
    "    \n",
    "    # Initialize a random sample\n",
    "    s = np.random.binomial(1, 0.5, (num_neurons,)) * 2 - 1\n",
    "    \n",
    "    # Initialize the matrix of generated samples\n",
    "    X = np.empty((0, num_neurons))\n",
    "    \n",
    "    # Iterate (first generate some samples during the burn-in period and then gather the samples)\n",
    "    for iteration in range(num_samples):\n",
    "        for burn_in in range(num_burn_in + 1):\n",
    "            # Store the original value of s\n",
    "            s_original = s\n",
    "            # Calculate the flip probabilities\n",
    "            p_flip = 0.5 * (1 + np.tanh(np.multiply(-s, np.dot(w, s) + theta)))\n",
    "            # Calculate transition probabilities\n",
    "            p_transition = p_flip / float(num_neurons)\n",
    "            p_stay = 1 - np.sum(p_transition)\n",
    "            # Flip according to the probability distribution of flipping\n",
    "            if random.random() <= 1 - p_stay:\n",
    "                # Pick a random neuron\n",
    "                neuron = random.randint(1, num_neurons) - 1\n",
    "                if random.random() <= p_flip[neuron]:\n",
    "                    s[neuron] *= -1\n",
    "            # Add the state if the sample is not generated during the burn in period\n",
    "            if burn_in >= num_burn_in:\n",
    "                if show_transition_probabilities:\n",
    "                    print('Transition probabilities for ', s_original,':', p_transition, ' (stay probability: ', p_stay, ')')\n",
    "                X = np.vstack([X, s])\n",
    "    return X\n",
    "    \n",
    "data = DataLoader('mnistAll')\n",
    "data.load_images()"
   ]
  },
  {
   "cell_type": "markdown",
   "metadata": {},
   "source": [
    "# Research Questions"
   ]
  },
  {
   "cell_type": "markdown",
   "metadata": {},
   "source": [
    "## Sampling Procedure\n",
    "- What is the effect of changing the number of burn-in samples used in the sampling procedure on the convergence of the change in the weights during the learning procedure?"
   ]
  },
  {
   "cell_type": "code",
   "execution_count": null,
   "metadata": {
    "collapsed": true
   },
   "outputs": [],
   "source": []
  },
  {
   "cell_type": "markdown",
   "metadata": {},
   "source": [
    "## Optimal Noise Level\n",
    "\n",
    "- What definition of noise is used?\n",
    "\n",
    "<img src=\"img/noise-vs-accuracy.png\" />\n",
    "\n",
    "- Why is there a low mean accuracy for a noise level between $0.00$ and $0.03$ and for a noise level between $0.47$ and $0.50$?\n",
    "- Using a classifier which randomly picks one digit of $\\{0, 1, 2, ..., 9\\}$, the mean accuracy will be $0.10$. Why is there a dip in accuracy lower than $0.10$ between $0.47$ and $0.50$?"
   ]
  },
  {
   "cell_type": "markdown",
   "metadata": {},
   "source": [
    "### Noise definition\n",
    "For each pixel, a noise mask is created. Every pixel in the mask has value $-1$ with probability $p_{\\mbox{noise}}$ and value $1$ with probability $1 - p_{\\mbox{noise}}$. Then, element-wise multiplication is applied on the original image with the mask.\n",
    "\n",
    "For $p_{\\mbox{noise}}=0$, there is no distortion of the original images. For $p_{\\mbox{noise}}=1$, every bit is flipped and the structures in the original images remain. For $p_{\\mbox{noise}}=0.5$, maximum noise is obtained and there is no structure in the images."
   ]
  },
  {
   "cell_type": "code",
   "execution_count": 53,
   "metadata": {
    "collapsed": false
   },
   "outputs": [
    {
     "data": {
      "image/png": "[encoded data removed]",
      "text/plain": [
       "<matplotlib.figure.Figure at 0x7f088a450fd0>"
      ]
     },
     "metadata": {},
     "output_type": "display_data"
    }
   ],
   "source": [
    "noise_levels = [0, 0.1, 0.5, 0.9, 1.0]\n",
    "\n",
    "fig, ax = plt.subplots(nrows=2, ncols=len(noise_levels), figsize=(12, 5))\n",
    "for index, noise_level in enumerate(noise_levels):\n",
    "    noise_mask = np.random.binomial(1, noise_level, (28, 28)) * 2 - 1\n",
    "    ax[0, index].set_title('$p_{\\mbox{noise}}=%.1f$' % noise_level)\n",
    "    ax[0, index].axis('off')\n",
    "    ax[0, index].imshow(noise_mask, vmin=-1, vmax=1)\n",
    "    ax[1, index].set_title('Applied mask ($p_{\\mbox{noise}}=%.1f$)' % noise_level)\n",
    "    ax[1, index].axis('off')\n",
    "    ax[1, index].imshow(np.multiply(noise_mask, data.train_images[0, :].reshape(28, 28)), vmin=-1, vmax=1)\n",
    "fig.tight_layout()"
   ]
  },
  {
   "cell_type": "markdown",
   "metadata": {},
   "source": [
    "### Why is there a low accuracy for $0.00 \\le p_{\\mbox{noise}} \\le 0.03$?\n",
    "\n",
    "Because when there is a low noise level, there are pixels without any change. Take for example the left-most pixel in each image. This pixel is off in all the images. The learning algorithm cannot cope with constant pixels, so at least some noise should be added.\n",
    "\n",
    "Then, there will be multiple zeroes on the diagonal of the $C$ matrix used in the learning procedure? In the learning procedure, this matrix is inverted. In some cases it will not be possible to invert this matrix because of these zeroes. That is one explanation for the low accuracy between $0.00$ and $0.03$."
   ]
  },
  {
   "cell_type": "markdown",
   "metadata": {},
   "source": [
    "### Dip at $0.48$ and accuracy at $0.50$\n",
    "We could not find an explanation for the dip for $p_{\\mbox{noise}} \\approx 0.48$. The accuracy $0.10$ for $p_{\\mbox{noise}} = 0.50$ is explained by the fact that since the image is completely random. Since the image is completely random, the classifier acts the same as a random guess. By chance, guessing the correct number is indeed $\\frac{1}{10}$."
   ]
  },
  {
   "cell_type": "code",
   "execution_count": null,
   "metadata": {
    "collapsed": true
   },
   "outputs": [],
   "source": []
  }
 ],
 "metadata": {
  "kernelspec": {
   "display_name": "Python [Root]",
   "language": "python",
   "name": "Python [Root]"
  },
  "language_info": {
   "codemirror_mode": {
    "name": "ipython",
    "version": 3
   },
   "file_extension": ".py",
   "mimetype": "text/x-python",
   "name": "python",
   "nbconvert_exporter": "python",
   "pygments_lexer": "ipython3",
   "version": "3.5.2"
  }
 },
 "nbformat": 4,
 "nbformat_minor": 0
}
