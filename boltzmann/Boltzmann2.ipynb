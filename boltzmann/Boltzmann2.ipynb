{
 "cells": [
  {
   "cell_type": "markdown",
   "metadata": {},
   "source": [
    "# Hello, _nbpresent_!"
   ]
  },
  {
   "cell_type": "code",
   "execution_count": 1,
   "metadata": {
    "collapsed": false
   },
   "outputs": [
    {
     "data": {
      "text/plain": [
       "'3.0.2'"
      ]
     },
     "execution_count": 1,
     "metadata": {},
     "output_type": "execute_result"
    }
   ],
   "source": [
    "import nbpresent\n",
    "nbpresent.__version__"
   ]
  },
  {
   "cell_type": "markdown",
   "metadata": {},
   "source": [
    "# Hello, _nbpresent_!"
   ]
  },
  {
   "cell_type": "code",
   "execution_count": null,
   "metadata": {
    "collapsed": true
   },
   "outputs": [],
   "source": [
    "import nbpresent\n",
    "nbpresent.__version__"
   ]
  },
  {
   "cell_type": "markdown",
   "metadata": {
    "nbpresent": {
     "id": "a7f3626c-459d-4900-91bf-d66ab168075f"
    }
   },
   "source": [
    "# Boltzmann\n",
    "In this notebook, the problem is simplified to 2 neurons. The clamped dataset consists of pairs in which the first component of each datapoint equals the second component of each datapoint."
   ]
  },
  {
   "cell_type": "code",
   "execution_count": 17,
   "metadata": {
    "collapsed": true,
    "nbpresent": {
     "id": "67fe7d6c-2c73-4518-b773-6d702fc96705"
    }
   },
   "outputs": [],
   "source": [
    "# Imports\n",
    "import random\n",
    "import numpy as np\n",
    "import matplotlib.pyplot as plt\n",
    "\n",
    "% matplotlib inline"
   ]
  },
  {
   "cell_type": "markdown",
   "metadata": {
    "nbpresent": {
     "id": "1779f188-efca-4807-ac2f-70b3402af4a0"
    }
   },
   "source": [
    "## Calculate clamped statistics\n",
    "In the next section, functions are defined for calculating clamped statistics $\\langle x_i \\rangle$ and $\\langle x_i x_j \\rangle$ which are defined as follows:\n",
    "\\begin{align}\n",
    "\\langle x_i \\rangle_c &:= \\frac{1}{P} \\sum\\limits_{\\mu} x_i^{\\mu}\\\\\n",
    "\\langle x_i x_j\\rangle_c &:= \\frac{1}{P} \\sum\\limits_{\\mu} x_i^{\\mu} x_j^{\\mu}\n",
    "\\end{align}"
   ]
  },
  {
   "cell_type": "code",
   "execution_count": 18,
   "metadata": {
    "collapsed": false,
    "nbpresent": {
     "id": "400f1a83-6a15-4ee7-b950-9c8e19b0f10c"
    }
   },
   "outputs": [],
   "source": [
    "def calculate_clamped_statistics(X):\n",
    "    \"\"\"\n",
    "    Calculate <x_i>_c and <x_i x_j>_c given X.\n",
    "    \"\"\"\n",
    "    num_datapoints = X.shape[0]\n",
    "    return np.sum(X, axis=0) / num_datapoints, np.dot(X.T, X) / num_datapoints"
   ]
  },
  {
   "cell_type": "markdown",
   "metadata": {
    "nbpresent": {
     "id": "a16602a3-55f2-40e8-994c-7313630de4d6"
    }
   },
   "source": [
    "### Testing clamped statistics calculation\n",
    "\n",
    "Now we will test the calculate statistics method with an easy example:\n",
    "\\begin{align}\n",
    "X := \n",
    "\\begin{pmatrix} \n",
    "  1 & -1\\\\\n",
    "  -1 & -1\\\\\n",
    "  1 & 1\\\\\n",
    "  1 & 1\n",
    "\\end{pmatrix}\n",
    "\\end{align}\n",
    "\n",
    "Each row represents a datapoint consisting of two elements. So the clamped statistics should equal the following:\n",
    "\n",
    "\\begin{align}\n",
    "\\langle X_1 \\rangle_c &= \\frac{1}{4} \\cdot (1 + -1 + 1 + 1) = \\frac{2}{4} = \\frac{1}{2}\\\\\n",
    "\\langle X_2 \\rangle_c &= \\frac{1}{4} \\cdot (-1 + -1 + 1 + 1) = 0\n",
    "\\end{align}\n",
    "\n",
    "We also can compute $\\langle X_i X_j \\rangle_c$:\n",
    "\\begin{align}\n",
    "\\langle X_1 X_1 \\rangle_c &= \\frac{1}{4} \\cdot (1 \\cdot 1 + -1 \\cdot -1 + 1 \\cdot 1 + 1 \\cdot 1) = \\frac{1}{4} \\cdot 4 = 1\\\\\n",
    "\\langle X_1 X_2 \\rangle_c &= \\frac{1}{4} \\cdot (1 \\cdot -1 + -1 \\cdot -1 + 1 \\cdot 1 + 1 \\cdot 1) = \\frac{2}{4} = \\frac{1}{2}\\\\\n",
    "\\langle X_2 X_1 \\rangle_c &= \\frac{1}{4} \\cdot (-1 \\cdot 1 + -1 \\cdot -1 + 1 \\cdot 1 + 1 \\cdot 1) = \\frac{2}{4} = \\frac{1}{2}\\\\\n",
    "\\langle X_2 X_2 \\rangle_c &= \\frac{1}{4} \\cdot (-1 \\cdot -1 + -1 \\cdot -1 + 1 \\cdot 1 + 1 \\cdot 1) = \\frac{1}{4} \\cdot 4 = 1\\\\\n",
    "\\end{align}"
   ]
  },
  {
   "cell_type": "code",
   "execution_count": 19,
   "metadata": {
    "collapsed": false,
    "nbpresent": {
     "id": "4a32c3ea-5052-43d8-a995-aa82cd9b5b99"
    }
   },
   "outputs": [
    {
     "name": "stdout",
     "output_type": "stream",
     "text": [
      "<x_i>_c should equal:\t\t[0.50, 0.00]\n",
      "<x_i>_c computed value:\t\t[0.50, 0.00]\n",
      "<x_i x_j>_c should equal:\t[[1.00, 0.50], [0.50, 1.00]]\n",
      "<x_i x_j>_c computed value:\t[[1.00, 0.50], [0.50, 1.00]]\n"
     ]
    }
   ],
   "source": [
    "# Testing calculate clamped statistics\n",
    "X = np.matrix([\n",
    "    [1, -1],\n",
    "    [-1, -1],\n",
    "    [1, 1],\n",
    "    [1, 1]\n",
    "])\n",
    "stats = calculate_clamped_statistics(X)\n",
    "print(\"<x_i>_c should equal:\\t\\t[0.50, 0.00]\\n<x_i>_c computed value:\\t\\t[%.2f, %.2f]\" % (stats[0].item(0), stats[0].item(1)))\n",
    "print(\"<x_i x_j>_c should equal:\\t[[1.00, 0.50], [0.50, 1.00]]\\n<x_i x_j>_c computed value:\\t[[%.2f, %.2f], [%.2f, %.2f]]\" % (stats[1].item((0, 0)), stats[1].item((0, 1)), stats[1].item((1, 0)), stats[1].item((1, 1))))"
   ]
  },
  {
   "cell_type": "markdown",
   "metadata": {
    "nbpresent": {
     "id": "7c407c8b-d567-4046-a728-7229a96d2279"
    }
   },
   "source": [
    "## Calculate energy\n",
    "Energy is defined as $E(s) := -\\frac{1}{2} \\sum\\limits_{ij} w_{ij} s_i s_j - \\sum\\limits_{i} \\theta_i s_i$. Where $s$ is a single state. Let $S$ represent a matrix where each row is a state. Then: $E_n(S) = -\\frac{1}{2} \\sum\\limits_{ij} w_{ij} S_{ni} s_{nj} - \\sum\\limits_{i} \\theta_i s_{ni}$. This is a generalization of the first definition. Note furthermore that:\n",
    "\\begin{align}\n",
    "E_n(S) &= -\\frac{1}{2} \\sum\\limits_i \\sum\\limits_j w_{ij} (S^{T})_{jn} S_{ni} - \\sum\\limits_i \\theta_{i} S_{ni}\\\\\n",
    "E_n(S) &= -\\frac{1}{2} \\sum\\limits_i S_{ni} \\sum\\limits_j w_{ij} (S^{T})_{jn} - \\sum\\limits_i \\theta_{i} S_{ni}\n",
    "\\end{align}\n",
    "\n",
    "Now define $Q_{in} := \\sum\\limits_j w_{ij} (S^{T})_{jn} = (w \\cdot S^{T})_{in}$. Then:\n",
    "\n",
    "\\begin{align}\n",
    "E_n(S) &= -\\frac{1}{2} \\sum\\limits_i S_{ni} Q_{in} - \\sum\\limits_i \\theta_{i} S_{ni}\\\\\n",
    "E_n(S) &= -\\frac{1}{2} (S \\cdot Q)_{nn} - \\sum\\limits_i \\theta_{i} (S^{T})_{in}\\\\\n",
    "E_n(S) &= -\\frac{1}{2} (S \\cdot Q)_{nn} - \\theta \\cdot S^{T}\\\\\n",
    "E_n(S) &= -\\frac{1}{2} (S \\cdot (w \\cdot S^{T}))_{nn} - \\theta \\cdot S^{T}\\\\\n",
    "\\end{align}\n",
    "\n",
    "This last definition is used in the calculation for the energy. With $n=1$ it simplifies to the one dimensional case."
   ]
  },
  {
   "cell_type": "code",
   "execution_count": 20,
   "metadata": {
    "collapsed": false,
    "nbpresent": {
     "id": "c4fd9d9d-e44a-4324-9810-c417bb19f994"
    }
   },
   "outputs": [],
   "source": [
    "def calculate_energy(samples, w, theta):\n",
    "    f = np.dot(samples, np.dot(w, samples.T))\n",
    "    # Also allow samples consisting of one sample (an array, so f.ndim == 1)\n",
    "    # Therefore, only take the diagonal in the two dimensional case\n",
    "    if f.ndim == 2:\n",
    "        f = np.diagonal(f)\n",
    "    return np.squeeze(np.asarray(-0.5 * f - np.dot(theta.T, samples.T)))"
   ]
  },
  {
   "cell_type": "markdown",
   "metadata": {
    "nbpresent": {
     "id": "d9826c80-e397-4a0a-9289-d7602ed4731b"
    }
   },
   "source": [
    "### Testing energy calculation\n",
    "\n",
    "We will test the energy calculation for a simple case with two samples. Define:\n",
    "\n",
    "\\begin{align}\n",
    "w := \\begin{pmatrix} \n",
    "  1 & 0\\\\\n",
    "  -1 & 1\n",
    "\\end{pmatrix}\n",
    "\\theta := \\begin{pmatrix} \n",
    "  -1\\\\\n",
    "  -1\n",
    "\\end{pmatrix}\n",
    "S := \\begin{pmatrix}\n",
    "1 & -1\\\\\n",
    "0 & 1\n",
    "\\end{pmatrix}\n",
    "\\end{align}\n",
    "\n",
    "Then:\n",
    "\\begin{align}\n",
    "E_1(S) &= -\\frac{1}{2} ((1 \\cdot 1 \\cdot 1) + (0) + (-1 \\cdot -1 \\cdot 1) + (1 \\cdot -1 \\cdot -1)) - (1 \\cdot -1) - (-1 \\cdot -1) = -\\frac{3}{2}\\\\\n",
    "E_2(S) &= -\\frac{1}{2} (0 + 0 + 0 + 1) - (-1 \\cdot 0) - (1 \\cdot -1) = -\\frac{1}{2} +1 = -\\frac{1}{2} + 1 = \\frac{1}{2}\n",
    "\\end{align}"
   ]
  },
  {
   "cell_type": "code",
   "execution_count": 21,
   "metadata": {
    "collapsed": false,
    "nbpresent": {
     "id": "dbad4199-be24-4a62-9d34-a29cd421564e"
    }
   },
   "outputs": [
    {
     "name": "stdout",
     "output_type": "stream",
     "text": [
      "Expected energy:\t[-1.50, 0.50]\n",
      "Computed energy:\t[-1.50, 0.50]\n"
     ]
    }
   ],
   "source": [
    "w = np.matrix([[1, 0], [-1, 1]])\n",
    "theta = np.matrix([[-1, -1]]).T\n",
    "S = np.matrix([[1, -1], [0, 1]])\n",
    "E = calculate_energy(S, w, theta)\n",
    "\n",
    "print(\"Expected energy:\\t[-1.50, 0.50]\")\n",
    "print(\"Computed energy:\\t[%.2f, %.2f]\" % (E.item(0), E.item(1)))"
   ]
  },
  {
   "cell_type": "markdown",
   "metadata": {
    "nbpresent": {
     "id": "ecd4f893-3c8e-4ae9-a5a3-8b7708b083ad"
    }
   },
   "source": [
    "### Boltzmann-Gibbs distribution\n",
    "For normalizing constant $Z$ we have that $Z := \\sum\\limits_s \\exp(-E(s))$. Using the generalization, we have that $Z := \\sum\\limits_n \\exp(-E_n(s))$. The Boltzmann-Gibbs distribution has a probability density function which is defined as follows: $p(s) = \\frac{1}{Z} \\exp(-E(s))$ or using the generalization: $p_n(S) = \\frac{1}{Z} \\exp(-E_n(s))$."
   ]
  },
  {
   "cell_type": "code",
   "execution_count": 22,
   "metadata": {
    "collapsed": true,
    "nbpresent": {
     "id": "16e63243-b15e-40e9-a6d7-92403993ce0b"
    }
   },
   "outputs": [],
   "source": [
    "def calculate_normalizing_constant(samples, w, theta):\n",
    "    return np.sum(np.exp(-calculate_energy(samples, w, theta)))\n",
    "\n",
    "def calculate_probabilities(samples, w, theta, normalizing_constant):\n",
    "    return np.exp(-calculate_energy(samples, w, theta)) / normalizing_constant"
   ]
  },
  {
   "cell_type": "markdown",
   "metadata": {
    "nbpresent": {
     "id": "47427947-4d57-4823-a222-cad4ada3aef7"
    }
   },
   "source": [
    "### Test related method for the Boltzmann-Gibbs distribution\n",
    "\n",
    "Now we will test whether the calculation for the normalizing constant and the calculation of the probability density function gives expected output. Define:\n",
    "\n",
    "\\begin{align}\n",
    "w := 1\\\\\n",
    "\\theta := -1\\\\\n",
    "S := \\begin{pmatrix}\n",
    "1 \\\\\n",
    "-1\n",
    "\\end{pmatrix}\n",
    "\\end{align}\n",
    "\n",
    "Thus:\n",
    "\\begin{align}\n",
    "E_1(S) &= -\\frac{1}{2} \\cdot (1 \\cdot 1 \\cdot 1) - (1 \\cdot -1) = -\\frac{1}{2} + 1 = \\frac{1}{2}\\\\\n",
    "E_2(S) &= -\\frac{1}{2} \\cdot (-1 \\cdot -1 \\cdot 1) - (-1 \\cdot -1) = -\\frac{1}{2} - 1 = -\\frac{3}{2}\n",
    "\\end{align}\n",
    "\n",
    "So: $Z = \\exp(-\\frac{1}{2}) + \\exp(\\frac{3}{2}) \\approx 5.09$ and thus:\n",
    "\\begin{align}\n",
    "p_1(S) &= \\frac{\\exp(-E_1(S))}{Z} = \\frac{\\exp(-\\frac{1}{2})}{Z} \\approx 0.12\\\\\n",
    "p_2(S) &= \\frac{\\exp(-E_2(S))}{Z} = \\frac{\\exp(\\frac{3}{2})}{Z} \\approx 0.88\\\\\n",
    "\\end{align}"
   ]
  },
  {
   "cell_type": "code",
   "execution_count": 23,
   "metadata": {
    "collapsed": false,
    "nbpresent": {
     "id": "96164ad7-9a4c-48f7-9a40-54bade56ec65"
    }
   },
   "outputs": [
    {
     "name": "stdout",
     "output_type": "stream",
     "text": [
      "Expected normalized constant:\t5.09\n",
      "Computed normalized constant:\t5.09\n",
      "Expected p(S):\t\t\t[0.12, 0.88]\n",
      "Computed p(S):\t\t\t[0.12, 0.88]\n"
     ]
    }
   ],
   "source": [
    "# Initialize the values\n",
    "w = np.matrix([[1]])\n",
    "theta = np.matrix([[-1]])\n",
    "S = np.matrix([[1], [-1]])\n",
    "E = calculate_energy(S, w, theta)\n",
    "\n",
    "# Compute the values\n",
    "Z = calculate_normalizing_constant(S, w, theta)\n",
    "p = calculate_probabilities(S, w, theta, Z)\n",
    "print(\"Expected normalized constant:\\t%.2f\" % 5.09)\n",
    "print(\"Computed normalized constant:\\t%.2f\" % Z)\n",
    "print(\"Expected p(S):\\t\\t\\t[%.2f, %.2f]\" % (0.12, 0.88))\n",
    "print(\"Computed p(S):\\t\\t\\t[%.2f, %.2f]\" % (p.item(0), p.item(1)))"
   ]
  },
  {
   "cell_type": "markdown",
   "metadata": {
    "nbpresent": {
     "id": "4618ad3a-a481-47cb-aad2-1d8aba22390b"
    }
   },
   "source": [
    "## Generate samples\n",
    "Improve this."
   ]
  },
  {
   "cell_type": "code",
   "execution_count": 24,
   "metadata": {
    "collapsed": false,
    "nbpresent": {
     "id": "35388edd-1bcd-46f9-aeff-1988db6aa7fb"
    }
   },
   "outputs": [],
   "source": [
    "def generate_samples(w, theta, num_burn_in=50, num_samples=500, show_transition_probabilities=False):\n",
    "    num_neurons = w.shape[0]\n",
    "    \n",
    "    # Initialize a random sample\n",
    "    s = np.random.binomial(1, 0.5, (num_neurons,)) * 2 - 1\n",
    "    \n",
    "    # Initialize the matrix of generated samples\n",
    "    X = np.empty((0, num_neurons))\n",
    "    \n",
    "    # Iterate (first generate some samples during the burn-in period and then gather the samples)\n",
    "    for iteration in range(num_samples):\n",
    "        for burn_in in range(num_burn_in + 1):\n",
    "            # Store the original value of s\n",
    "            s_original = s\n",
    "            # Calculate the flip probabilities\n",
    "            p_flip = 0.5 * (1 + np.tanh(np.multiply(-s, np.dot(w, s) + theta)))\n",
    "            # Calculate transition probabilities\n",
    "            p_transition = p_flip / float(num_neurons)\n",
    "            p_stay = 1 - np.sum(p_transition)\n",
    "            # Flip according to the probability distribution of flipping\n",
    "            if random.random() <= 1 - p_stay:\n",
    "                # Pick a random neuron\n",
    "                neuron = random.randint(1, num_neurons) - 1\n",
    "                if random.random() <= p_flip[neuron]:\n",
    "                    s[neuron] *= -1\n",
    "            # Add the state if the sample is not generated during the burn in period\n",
    "            if burn_in >= num_burn_in:\n",
    "                if show_transition_probabilities:\n",
    "                    print('Transition probabilities for ', s_original,':', p_transition, ' (stay probability: ', p_stay, ')')\n",
    "                X = np.vstack([X, s])\n",
    "    return X"
   ]
  },
  {
   "cell_type": "code",
   "execution_count": 35,
   "metadata": {
    "collapsed": false,
    "nbpresent": {
     "id": "547e3ad5-ab2d-4120-b0a3-d8c1536327e4"
    }
   },
   "outputs": [
    {
     "name": "stdout",
     "output_type": "stream",
     "text": [
      "[8.0, 2.9999999999999996]\n",
      "[6.7002692032003912, 2.3053935696766454]\n",
      "[2.2204460492503131e-16, 2.9999999999999996]\n",
      "[2.2204460492503131e-16, 2.9999999999999996]\n",
      "[2.2204460492503131e-16, 2.9999999999999996]\n",
      "[0.070455929967159436, 2.5269609174910466]\n",
      "[0.13168699430763064, 2.9670782514230924]\n",
      "[6.6613381477509392e-16, 2.9999999999999996]\n",
      "[0.17608884282567427, 2.6840084198156422]\n",
      "[0.88844641340646335, 2.5557767932967685]\n",
      "[0.026663052711863311, 2.9933342368220344]\n",
      "[0.032072435752672712, 2.9919818910618314]\n",
      "[0.12744467777430979, 2.9470178748036391]\n",
      "[6.6613381477509392e-16, 2.9999999999999996]\n",
      "[6.6613381477509392e-16, 2.9999999999999996]\n",
      "[6.6613381477509392e-16, 2.9999999999999996]\n",
      "[0.013974650497365904, 2.9965063373756582]\n",
      "[0.16788016578999887, 0.21964881934377967]\n",
      "[6.6613381477509392e-16, 2.9999999999999996]\n",
      "[0.27421331097808044, 2.226444306778494]\n",
      "[6.6613381477509392e-16, 2.9999999999999996]\n",
      "[2.2204460492503131e-16, 2.9999999999999996]\n",
      "[2.2204460492503131e-16, 2.9999999999999996]\n",
      "[8.8817841970012523e-16, 3.0]\n",
      "[2.2204460492503131e-16, 2.9999999999999996]\n",
      "[2.2204460492503131e-16, 2.9999999999999996]\n",
      "[0.05898020501800505, 2.9852549487454989]\n",
      "[6.6613381477509392e-16, 2.9999999999999996]\n",
      "[0.094034086424327867, 2.976491478393918]\n",
      "[2.2204460492503131e-16, 2.9999999999999996]\n",
      "[0.023667300779067313, 2.9940831748052328]\n",
      "[0.024296352623464523, 2.9939259118441335]\n",
      "[6.6613381477509392e-16, 2.9999999999999996]\n",
      "[6.6613381477509392e-16, 2.9999999999999996]\n",
      "[2.2204460492503131e-16, 2.9999999999999996]\n",
      "[2.2204460492503131e-16, 2.9999999999999996]\n",
      "[6.6613381477509392e-16, 2.9999999999999996]\n",
      "[0.0090833397742537958, 2.9977291650564366]\n",
      "[6.6613381477509392e-16, 2.9999999999999996]\n",
      "[2.2204460492503131e-16, 2.9999999999999996]\n",
      "[0.18489288638973678, 2.953776778402565]\n",
      "[2.2204460492503131e-16, 2.9999999999999996]\n",
      "[6.6613381477509392e-16, 2.9999999999999996]\n",
      "[6.6613381477509392e-16, 2.9999999999999996]\n",
      "[2.2204460492503131e-16, 2.9999999999999996]\n",
      "[2.2204460492503131e-16, 2.9999999999999996]\n",
      "[6.6613381477509392e-16, 2.9999999999999996]\n",
      "[0.023148751787742228, 2.9942128120530649]\n",
      "[0.19184969020010345, 2.933145603869292]\n",
      "[2.2204460492503131e-16, 2.9999999999999996]\n"
     ]
    },
    {
     "data": {
      "text/plain": [
       "[<matplotlib.lines.Line2D at 0x7fcc3da585f8>,\n",
       " <matplotlib.lines.Line2D at 0x7fcc3da588d0>]"
      ]
     },
     "execution_count": 35,
     "metadata": {},
     "output_type": "execute_result"
    },
    {
     "data": {
      "image/png": "[encoded data removed]",
      "text/plain": [
       "<matplotlib.figure.Figure at 0x7fcc3db8edd8>"
      ]
     },
     "metadata": {},
     "output_type": "display_data"
    }
   ],
   "source": [
    "num_neurons = 3\n",
    "learning_rates = [0.05, 0.05]\n",
    "w = np.random.normal(0, 1, (num_neurons, num_neurons))\n",
    "np.fill_diagonal(w, 1)\n",
    "theta = np.random.normal(0, 1, (num_neurons,))\n",
    "\n",
    "X_c = np.matrix([\n",
    "    [1, 1, 1],\n",
    "    [-1, -1, -1],\n",
    "])\n",
    "#X_c = np.random.binomial(1, 0.5, (3, num_neurons)) * 2 - 1\n",
    "s1_c, s2_c = calculate_clamped_statistics(X_c)\n",
    "\n",
    "q = []\n",
    "for _ in range(500):\n",
    "    X = generate_samples(w, theta, 10, 10)\n",
    "    Z = calculate_normalizing_constant(X, w, theta)\n",
    "    p = calculate_probabilities(X, w, theta, Z)\n",
    "\n",
    "    p_repeat = np.tile(p, (num_neurons, 1)).T\n",
    "    Q = np.multiply(p_repeat, X)\n",
    "    s2 = np.dot(X.T, Q)\n",
    "    s1 = np.dot(p, X)\n",
    "\n",
    "    dLdtheta = s1_c - s1\n",
    "    dLdw = s2_c - s2\n",
    "    np.fill_diagonal(dLdw, 0)\n",
    "\n",
    "    delta_w = learning_rates[0] * dLdw\n",
    "    delta_theta = learning_rates[1] * np.squeeze(np.asarray(dLdtheta))\n",
    "\n",
    "    w += delta_w\n",
    "    theta += delta_theta\n",
    "\n",
    "    if _ % 10 == 0:\n",
    "        print([np.sum(np.abs(dLdw)), np.sum(np.abs(dLdtheta))])\n",
    "    q.append([np.sum(np.abs(dLdw)), np.sum(np.abs(dLdtheta))])\n",
    "    \n",
    "plt.plot(q)"
   ]
  },
  {
   "cell_type": "markdown",
   "metadata": {
    "nbpresent": {
     "id": "3d952e82-075c-488e-9abb-1b2441b32e13"
    }
   },
   "source": []
  },
  {
   "cell_type": "code",
   "execution_count": 36,
   "metadata": {
    "collapsed": false,
    "nbpresent": {
     "id": "61e87938-665c-40e6-8e44-cf8a3a2723e0"
    }
   },
   "outputs": [
    {
     "data": {
      "text/plain": [
       "<matplotlib.image.AxesImage at 0x7fcc3da3b828>"
      ]
     },
     "execution_count": 36,
     "metadata": {},
     "output_type": "execute_result"
    },
    {
     "data": {
      "image/png": "[encoded data removed]",
      "text/plain": [
       "<matplotlib.figure.Figure at 0x7fcc3dbd6390>"
      ]
     },
     "metadata": {},
     "output_type": "display_data"
    }
   ],
   "source": [
    "plt.imshow(w)"
   ]
  },
  {
   "cell_type": "code",
   "execution_count": 37,
   "metadata": {
    "collapsed": false,
    "nbpresent": {
     "id": "21a70bae-6f7f-4ca3-ac4b-aeb0e39740a7"
    },
    "scrolled": true
   },
   "outputs": [
    {
     "data": {
      "text/plain": [
       "(array([[ 1.        ,  2.41903174,  0.59587187],\n",
       "        [-0.41596338,  1.        ,  0.67853899],\n",
       "        [ 1.53701759,  1.39760902,  1.        ]]),\n",
       " array([-0.25431476, -0.27545995,  1.04911047]))"
      ]
     },
     "execution_count": 37,
     "metadata": {},
     "output_type": "execute_result"
    }
   ],
   "source": [
    "w, theta"
   ]
  },
  {
   "cell_type": "code",
   "execution_count": 38,
   "metadata": {
    "collapsed": false,
    "nbpresent": {
     "id": "3dff2e66-c9e9-4908-87b0-41ea2338129e"
    }
   },
   "outputs": [
    {
     "name": "stdout",
     "output_type": "stream",
     "text": [
      "[[ 1  1  1]\n",
      " [-1 -1 -1]]\n",
      "[-, -, -]:\t8573\n",
      "[+, +, +]:\t1343\n",
      "[+, -, +]:\t32\n",
      "[-, -, +]:\t21\n",
      "[-, +, +]:\t16\n",
      "[-, +, -]:\t9\n",
      "[+, +, -]:\t5\n",
      "[+, -, -]:\t1\n"
     ]
    }
   ],
   "source": [
    "import operator\n",
    "\n",
    "print(X_c)\n",
    "S = generate_samples(w, theta, 10, 10000, False)\n",
    "counts = {}\n",
    "\n",
    "for r in range(S.shape[0]):\n",
    "    pattern = str(S[r, :].tolist())\n",
    "    pattern = pattern.replace('1.0', '+').replace('-+', '-')\n",
    "    if not pattern in counts:\n",
    "        counts[pattern] = 0\n",
    "    counts[pattern] += 1\n",
    "    \n",
    "for pattern, count in sorted(counts.items(), key=operator.itemgetter(1), reverse=True):\n",
    "    print(\"%s:\\t%d\" % (pattern, count))"
   ]
  },
  {
   "cell_type": "code",
   "execution_count": null,
   "metadata": {
    "collapsed": true,
    "nbpresent": {
     "id": "d5c799f5-4430-4b53-9152-67c4095a5cf9"
    }
   },
   "outputs": [],
   "source": []
  }
 ],
 "metadata": {
  "anaconda-cloud": {},
  "kernelspec": {
   "display_name": "Python [Root]",
   "language": "python",
   "name": "Python [Root]"
  },
  "language_info": {
   "codemirror_mode": {
    "name": "ipython",
    "version": 3
   },
   "file_extension": ".py",
   "mimetype": "text/x-python",
   "name": "python",
   "nbconvert_exporter": "python",
   "pygments_lexer": "ipython3",
   "version": "3.5.2"
  },
  "nbpresent": {
   "slides": {
    "343944ce-ed9c-4112-9774-cd70b498d73d": {
     "id": "343944ce-ed9c-4112-9774-cd70b498d73d",
     "layout": "grid",
     "prev": null,
     "regions": {}
    },
    "57f5dbf1-c616-414f-b2b2-92d6d1372e99": {
     "id": "57f5dbf1-c616-414f-b2b2-92d6d1372e99",
     "prev": "343944ce-ed9c-4112-9774-cd70b498d73d",
     "regions": {
      "040641d7-b20c-493e-adac-ad5cf2d9bc19": {
       "attrs": {
        "height": 1,
        "width": 1,
        "x": 0,
        "y": 0
       },
       "id": "040641d7-b20c-493e-adac-ad5cf2d9bc19"
      }
     }
    }
   },
   "themes": {}
  }
 },
 "nbformat": 4,
 "nbformat_minor": 0
}
